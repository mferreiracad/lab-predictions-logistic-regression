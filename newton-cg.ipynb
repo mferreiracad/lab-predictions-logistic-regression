{
 "cells": [
  {
   "cell_type": "markdown",
   "id": "6ae2febd",
   "metadata": {},
   "source": [
    "Create a query or queries to extract the information you think may be relevant for building the prediction model. It should include some film features and some rental features. Use the data from 2005.\n",
    "\n",
    "Create a query to get the list of films and a boolean indicating if it was rented last month (August 2005). This would be our target variable.\n",
    "\n",
    "Read the data into a Pandas dataframe.\n",
    "\n",
    "Analyze extracted features and transform them. You may need to encode some categorical variables, or scale numerical variables.\n",
    "\n",
    "Create a logistic regression model to predict this variable from the cleaned data.\n",
    "Evaluate the results."
   ]
  },
  {
   "cell_type": "code",
   "execution_count": 1,
   "id": "c66fe49c",
   "metadata": {},
   "outputs": [
    {
     "name": "stdout",
     "output_type": "stream",
     "text": [
      "········\n"
     ]
    }
   ],
   "source": [
    "# Importing modules & setting up pass\n",
    "import pymysql\n",
    "from sqlalchemy import create_engine\n",
    "import pandas as pd\n",
    "import getpass  # To get the password without showing the input\n",
    "password = getpass.getpass()\n",
    "import numpy as np\n",
    "import re\n",
    "from sklearn.preprocessing import MinMaxScaler\n",
    "from sklearn.preprocessing import OneHotEncoder\n",
    "import matplotlib.pyplot as plt"
   ]
  },
  {
   "cell_type": "code",
   "execution_count": 2,
   "id": "290f5792",
   "metadata": {},
   "outputs": [],
   "source": [
    "# How many times a movie was rented? sakila.film vs sakila.rental\n",
    "# Which category of movies in most rented? sakila.category vs sakila.rental vs sakila.film_category\n",
    "# Which rating of movies is most rented? sakila.rating vs sakila.rental\n",
    "# Has the length of the movie some influence? sakila.film vs sakila.rental\n",
    "# What about the language? sakila.language vs sakila.film\n",
    "# Special-features? sakila.film\n",
    "# Rental price/rate? sakila.film\n",
    "# Rental duration? sakila.film"
   ]
  },
  {
   "cell_type": "code",
   "execution_count": 3,
   "id": "67f634a9",
   "metadata": {},
   "outputs": [],
   "source": [
    "# get the data\n",
    "connection_string = 'mysql+pymysql://root:' + password + '@localhost/sakila'\n",
    "engine = create_engine(connection_string)"
   ]
  },
  {
   "cell_type": "code",
   "execution_count": 4,
   "id": "e0f8ac4f",
   "metadata": {},
   "outputs": [],
   "source": [
    "sakila =  '''\n",
    "SELECT f.film_id, COUNT(r.rental_id) rented_times,f.rental_duration, c.name as category, f.length,\n",
    "f.rating, f.special_features, f.rental_rate, l.name AS language,\n",
    "CASE\n",
    "    WHEN r.rental_date BETWEEN '2005-05-01' AND '2005-05-31' THEN True\n",
    "    ELSE False END AS may\n",
    "FROM sakila.film f\n",
    "Left JOIN inventory i\n",
    "    ON f.film_id = i.film_id\n",
    "JOIN sakila.rental r\n",
    "    ON i.inventory_id = r.inventory_id\n",
    "Join sakila.film_category fc\n",
    "    On fc.film_id = f.film_id\n",
    "Join sakila.category c\n",
    "    On c.category_id = fc.category_id\n",
    "Join sakila.language l\n",
    "    On l.language_id = f.language_id\n",
    "Where r.rental_date Between '2005-01-01' AND '2005-12-31'\n",
    "GROUP BY film_id, rental_duration,category, f.length, f.rating, may, f.special_features,f.rental_rate, language; \n",
    "'''\n",
    "\n",
    "\n",
    "sakila = pd.read_sql_query(sakila, engine)"
   ]
  },
  {
   "cell_type": "code",
   "execution_count": 5,
   "id": "75cd0d1e",
   "metadata": {},
   "outputs": [
    {
     "name": "stdout",
     "output_type": "stream",
     "text": [
      "<class 'pandas.core.frame.DataFrame'>\n",
      "RangeIndex: 1585 entries, 0 to 1584\n",
      "Data columns (total 10 columns):\n",
      " #   Column            Non-Null Count  Dtype  \n",
      "---  ------            --------------  -----  \n",
      " 0   film_id           1585 non-null   int64  \n",
      " 1   rented_times      1585 non-null   int64  \n",
      " 2   rental_duration   1585 non-null   int64  \n",
      " 3   category          1585 non-null   object \n",
      " 4   length            1585 non-null   int64  \n",
      " 5   rating            1585 non-null   object \n",
      " 6   special_features  1585 non-null   object \n",
      " 7   rental_rate       1585 non-null   float64\n",
      " 8   language          1585 non-null   object \n",
      " 9   may               1585 non-null   int64  \n",
      "dtypes: float64(1), int64(5), object(4)\n",
      "memory usage: 124.0+ KB\n"
     ]
    }
   ],
   "source": [
    "sakila.info()"
   ]
  },
  {
   "cell_type": "markdown",
   "id": "620a2954",
   "metadata": {},
   "source": [
    "One hot encoding / Get dummies / Whatever! the special_features..."
   ]
  },
  {
   "cell_type": "code",
   "execution_count": 6,
   "id": "500fe57e",
   "metadata": {},
   "outputs": [
    {
     "data": {
      "text/plain": [
       "Trailers,Commentaries,Behind the Scenes                   132\n",
       "Deleted Scenes,Behind the Scenes                          117\n",
       "Trailers                                                  115\n",
       "Commentaries,Behind the Scenes                            110\n",
       "Trailers,Commentaries                                     109\n",
       "Behind the Scenes                                         109\n",
       "Commentaries,Deleted Scenes,Behind the Scenes             108\n",
       "Commentaries                                              106\n",
       "Trailers,Deleted Scenes                                   106\n",
       "Commentaries,Deleted Scenes                               103\n",
       "Trailers,Behind the Scenes                                103\n",
       "Deleted Scenes                                            100\n",
       "Trailers,Commentaries,Deleted Scenes                       95\n",
       "Trailers,Commentaries,Deleted Scenes,Behind the Scenes     92\n",
       "Trailers,Deleted Scenes,Behind the Scenes                  80\n",
       "Name: special_features, dtype: int64"
      ]
     },
     "execution_count": 6,
     "metadata": {},
     "output_type": "execute_result"
    }
   ],
   "source": [
    "sakila['special_features'].value_counts()"
   ]
  },
  {
   "cell_type": "code",
   "execution_count": 7,
   "id": "a90d9b00",
   "metadata": {},
   "outputs": [],
   "source": [
    "#this can be improved...this is a lot of code to a simple task....\n",
    "trailer = []; b_scenes = []; commentaries = []; s_features = []\n",
    "\n",
    "for i in sakila['special_features']:\n",
    "        if re.findall('Trailers', i):\n",
    "            trailer.append(1)\n",
    "        else:\n",
    "            trailer.append(0)\n",
    "for i in sakila['special_features']:\n",
    "        if re.findall('Behind the Scenes', i):\n",
    "            b_scenes.append(1)\n",
    "        else:\n",
    "            b_scenes.append(0)      \n",
    "for i in sakila['special_features']:\n",
    "        if re.findall('Commentaries', i):\n",
    "            commentaries.append(1)\n",
    "        else:\n",
    "            commentaries.append(0)     \n",
    "for i in sakila['special_features']:\n",
    "        if re.findall('Deleted Scenes', i):\n",
    "            s_features.append(1)\n",
    "        else:\n",
    "            s_features.append(0)\n",
    "            \n",
    "sakila['trailers'] = trailer\n",
    "sakila['commentaries'] = commentaries\n",
    "sakila['behind the scenes'] = b_scenes  \n",
    "sakila['deleted scenes'] = s_features"
   ]
  },
  {
   "cell_type": "code",
   "execution_count": 8,
   "id": "4e53e917",
   "metadata": {},
   "outputs": [],
   "source": [
    "sakila = sakila.drop(['special_features'], axis=1)\n",
    "sakila = sakila.drop(['film_id'], axis=1)\n",
    "#there's no need for it now"
   ]
  },
  {
   "cell_type": "code",
   "execution_count": 9,
   "id": "c4c61295",
   "metadata": {},
   "outputs": [],
   "source": [
    "# as objects\n",
    "sakila['rental_duration'] = sakila['rental_duration'].astype(object)\n",
    "sakila['rental_rate'] = sakila['rental_rate'].astype(object)\n",
    "sakila['language'] = sakila['language'].astype(object)\n",
    "# as bools\n",
    "sakila['trailers'] = sakila['trailers'].astype(bool)\n",
    "sakila['may'] = sakila['may'].astype(bool)\n",
    "sakila['behind the scenes'] = sakila['behind the scenes'].astype(bool)\n",
    "sakila['commentaries'] = sakila['commentaries'].astype(bool)\n",
    "sakila['deleted scenes'] = sakila['deleted scenes'].astype(bool)"
   ]
  },
  {
   "cell_type": "code",
   "execution_count": 10,
   "id": "5031ca84",
   "metadata": {},
   "outputs": [],
   "source": [
    "y = sakila['may']\n",
    "X = sakila.drop('may', axis=1)\n",
    "from sklearn.model_selection import train_test_split\n",
    "X_train, X_test, y_train, y_test = train_test_split(X, y, test_size=0.2, random_state=42)"
   ]
  },
  {
   "cell_type": "code",
   "execution_count": 11,
   "id": "c196a720",
   "metadata": {},
   "outputs": [],
   "source": [
    "X_train_num = X_train.select_dtypes(include = np.number)\n",
    "# Scaling data\n",
    "transformer = MinMaxScaler().fit(X_train_num)\n",
    "X_train_normalized = transformer.transform(X_train_num)\n",
    "X_train_norm = pd.DataFrame(X_train_normalized)"
   ]
  },
  {
   "cell_type": "code",
   "execution_count": 12,
   "id": "2c0c27c7",
   "metadata": {},
   "outputs": [
    {
     "data": {
      "text/html": [
       "<div>\n",
       "<style scoped>\n",
       "    .dataframe tbody tr th:only-of-type {\n",
       "        vertical-align: middle;\n",
       "    }\n",
       "\n",
       "    .dataframe tbody tr th {\n",
       "        vertical-align: top;\n",
       "    }\n",
       "\n",
       "    .dataframe thead th {\n",
       "        text-align: right;\n",
       "    }\n",
       "</style>\n",
       "<table border=\"1\" class=\"dataframe\">\n",
       "  <thead>\n",
       "    <tr style=\"text-align: right;\">\n",
       "      <th></th>\n",
       "      <th>0</th>\n",
       "      <th>1</th>\n",
       "    </tr>\n",
       "  </thead>\n",
       "  <tbody>\n",
       "    <tr>\n",
       "      <th>0</th>\n",
       "      <td>0.000000</td>\n",
       "      <td>0.330935</td>\n",
       "    </tr>\n",
       "    <tr>\n",
       "      <th>1</th>\n",
       "      <td>0.566667</td>\n",
       "      <td>0.863309</td>\n",
       "    </tr>\n",
       "    <tr>\n",
       "      <th>2</th>\n",
       "      <td>0.000000</td>\n",
       "      <td>0.482014</td>\n",
       "    </tr>\n",
       "    <tr>\n",
       "      <th>3</th>\n",
       "      <td>0.800000</td>\n",
       "      <td>0.784173</td>\n",
       "    </tr>\n",
       "    <tr>\n",
       "      <th>4</th>\n",
       "      <td>0.033333</td>\n",
       "      <td>0.079137</td>\n",
       "    </tr>\n",
       "    <tr>\n",
       "      <th>...</th>\n",
       "      <td>...</td>\n",
       "      <td>...</td>\n",
       "    </tr>\n",
       "    <tr>\n",
       "      <th>1263</th>\n",
       "      <td>0.166667</td>\n",
       "      <td>0.784173</td>\n",
       "    </tr>\n",
       "    <tr>\n",
       "      <th>1264</th>\n",
       "      <td>0.400000</td>\n",
       "      <td>0.410072</td>\n",
       "    </tr>\n",
       "    <tr>\n",
       "      <th>1265</th>\n",
       "      <td>0.233333</td>\n",
       "      <td>0.935252</td>\n",
       "    </tr>\n",
       "    <tr>\n",
       "      <th>1266</th>\n",
       "      <td>0.000000</td>\n",
       "      <td>0.223022</td>\n",
       "    </tr>\n",
       "    <tr>\n",
       "      <th>1267</th>\n",
       "      <td>0.766667</td>\n",
       "      <td>0.669065</td>\n",
       "    </tr>\n",
       "  </tbody>\n",
       "</table>\n",
       "<p>1268 rows × 2 columns</p>\n",
       "</div>"
      ],
      "text/plain": [
       "             0         1\n",
       "0     0.000000  0.330935\n",
       "1     0.566667  0.863309\n",
       "2     0.000000  0.482014\n",
       "3     0.800000  0.784173\n",
       "4     0.033333  0.079137\n",
       "...        ...       ...\n",
       "1263  0.166667  0.784173\n",
       "1264  0.400000  0.410072\n",
       "1265  0.233333  0.935252\n",
       "1266  0.000000  0.223022\n",
       "1267  0.766667  0.669065\n",
       "\n",
       "[1268 rows x 2 columns]"
      ]
     },
     "execution_count": 12,
     "metadata": {},
     "output_type": "execute_result"
    }
   ],
   "source": [
    "X_train_norm"
   ]
  },
  {
   "cell_type": "code",
   "execution_count": 13,
   "id": "f6c2404d",
   "metadata": {},
   "outputs": [],
   "source": [
    "X_train_cat = X_train.select_dtypes(include = object)"
   ]
  },
  {
   "cell_type": "code",
   "execution_count": 14,
   "id": "c741b277",
   "metadata": {},
   "outputs": [
    {
     "name": "stderr",
     "output_type": "stream",
     "text": [
      "/Users/miguel/opt/anaconda3/lib/python3.9/site-packages/pandas/core/algorithms.py:798: FutureWarning: In a future version, the Index constructor will not infer numeric dtypes when passed object-dtype sequences (matching Series behavior)\n",
      "  uniques = Index(uniques)\n"
     ]
    }
   ],
   "source": [
    "X_train_categorical = X_train.select_dtypes(include = object)\n",
    "X_train_cat = pd.get_dummies(X_train_categorical, \n",
    "                             columns=['category', 'rating','rental_duration', 'rental_rate', 'language'],\n",
    "                             drop_first=True)"
   ]
  },
  {
   "cell_type": "code",
   "execution_count": 15,
   "id": "40469e19",
   "metadata": {},
   "outputs": [],
   "source": [
    "X_train_transformed = np.concatenate([X_train_norm, X_train_cat], axis=1)"
   ]
  },
  {
   "cell_type": "code",
   "execution_count": 16,
   "id": "80616e70",
   "metadata": {},
   "outputs": [],
   "source": [
    "# now the tricky part! max number of iterations always reached with saga or lbfgs\n",
    "from sklearn.linear_model import LogisticRegression\n",
    "classification = LogisticRegression(random_state=0, solver='newton-cg',\n",
    "                  multi_class='multinomial').fit(X_train_transformed, y_train)"
   ]
  },
  {
   "cell_type": "code",
   "execution_count": 17,
   "id": "e14b38ba",
   "metadata": {},
   "outputs": [],
   "source": [
    "# now the X-test\n",
    "X_test_num = X_test.select_dtypes(include = np.number)\n",
    "\n",
    "# We'll use the transformer we used before while training data\n",
    "X_test_normalized = transformer.transform(X_test_num)\n",
    "X_test_norm = pd.DataFrame(X_test_normalized)"
   ]
  },
  {
   "cell_type": "code",
   "execution_count": 18,
   "id": "27f68ee8",
   "metadata": {},
   "outputs": [
    {
     "name": "stderr",
     "output_type": "stream",
     "text": [
      "/Users/miguel/opt/anaconda3/lib/python3.9/site-packages/pandas/core/algorithms.py:798: FutureWarning: In a future version, the Index constructor will not infer numeric dtypes when passed object-dtype sequences (matching Series behavior)\n",
      "  uniques = Index(uniques)\n"
     ]
    },
    {
     "data": {
      "text/plain": [
       "[('category_Animation', 'category_Animation'),\n",
       " ('category_Children', 'category_Children'),\n",
       " ('category_Classics', 'category_Classics'),\n",
       " ('category_Comedy', 'category_Comedy'),\n",
       " ('category_Documentary', 'category_Documentary'),\n",
       " ('category_Drama', 'category_Drama'),\n",
       " ('category_Family', 'category_Family'),\n",
       " ('category_Foreign', 'category_Foreign'),\n",
       " ('category_Games', 'category_Games'),\n",
       " ('category_Horror', 'category_Horror'),\n",
       " ('category_Music', 'category_Music'),\n",
       " ('category_New', 'category_New'),\n",
       " ('category_Sci-Fi', 'category_Sci-Fi'),\n",
       " ('category_Sports', 'category_Sports'),\n",
       " ('category_Travel', 'category_Travel'),\n",
       " ('rating_NC-17', 'rating_NC-17'),\n",
       " ('rating_PG', 'rating_PG'),\n",
       " ('rating_PG-13', 'rating_PG-13'),\n",
       " ('rating_R', 'rating_R'),\n",
       " ('rental_duration_4', 'rental_duration_4'),\n",
       " ('rental_duration_5', 'rental_duration_5'),\n",
       " ('rental_duration_6', 'rental_duration_6'),\n",
       " ('rental_duration_7', 'rental_duration_7'),\n",
       " ('rental_rate_2.99', 'rental_rate_2.99'),\n",
       " ('rental_rate_4.99', 'rental_rate_4.99')]"
      ]
     },
     "metadata": {},
     "output_type": "display_data"
    },
    {
     "data": {
      "text/html": [
       "<div>\n",
       "<style scoped>\n",
       "    .dataframe tbody tr th:only-of-type {\n",
       "        vertical-align: middle;\n",
       "    }\n",
       "\n",
       "    .dataframe tbody tr th {\n",
       "        vertical-align: top;\n",
       "    }\n",
       "\n",
       "    .dataframe thead th {\n",
       "        text-align: right;\n",
       "    }\n",
       "</style>\n",
       "<table border=\"1\" class=\"dataframe\">\n",
       "  <thead>\n",
       "    <tr style=\"text-align: right;\">\n",
       "      <th></th>\n",
       "      <th>category_Animation</th>\n",
       "      <th>category_Children</th>\n",
       "      <th>category_Classics</th>\n",
       "      <th>category_Comedy</th>\n",
       "      <th>category_Documentary</th>\n",
       "      <th>category_Drama</th>\n",
       "      <th>category_Family</th>\n",
       "      <th>category_Foreign</th>\n",
       "      <th>category_Games</th>\n",
       "      <th>category_Horror</th>\n",
       "      <th>...</th>\n",
       "      <th>rating_NC-17</th>\n",
       "      <th>rating_PG</th>\n",
       "      <th>rating_PG-13</th>\n",
       "      <th>rating_R</th>\n",
       "      <th>rental_duration_4</th>\n",
       "      <th>rental_duration_5</th>\n",
       "      <th>rental_duration_6</th>\n",
       "      <th>rental_duration_7</th>\n",
       "      <th>rental_rate_2.99</th>\n",
       "      <th>rental_rate_4.99</th>\n",
       "    </tr>\n",
       "  </thead>\n",
       "  <tbody>\n",
       "    <tr>\n",
       "      <th>468</th>\n",
       "      <td>0</td>\n",
       "      <td>0</td>\n",
       "      <td>0</td>\n",
       "      <td>1</td>\n",
       "      <td>0</td>\n",
       "      <td>0</td>\n",
       "      <td>0</td>\n",
       "      <td>0</td>\n",
       "      <td>0</td>\n",
       "      <td>0</td>\n",
       "      <td>...</td>\n",
       "      <td>0</td>\n",
       "      <td>0</td>\n",
       "      <td>1</td>\n",
       "      <td>0</td>\n",
       "      <td>0</td>\n",
       "      <td>0</td>\n",
       "      <td>0</td>\n",
       "      <td>1</td>\n",
       "      <td>1</td>\n",
       "      <td>0</td>\n",
       "    </tr>\n",
       "    <tr>\n",
       "      <th>332</th>\n",
       "      <td>0</td>\n",
       "      <td>0</td>\n",
       "      <td>1</td>\n",
       "      <td>0</td>\n",
       "      <td>0</td>\n",
       "      <td>0</td>\n",
       "      <td>0</td>\n",
       "      <td>0</td>\n",
       "      <td>0</td>\n",
       "      <td>0</td>\n",
       "      <td>...</td>\n",
       "      <td>0</td>\n",
       "      <td>1</td>\n",
       "      <td>0</td>\n",
       "      <td>0</td>\n",
       "      <td>0</td>\n",
       "      <td>1</td>\n",
       "      <td>0</td>\n",
       "      <td>0</td>\n",
       "      <td>0</td>\n",
       "      <td>0</td>\n",
       "    </tr>\n",
       "    <tr>\n",
       "      <th>1435</th>\n",
       "      <td>0</td>\n",
       "      <td>0</td>\n",
       "      <td>0</td>\n",
       "      <td>0</td>\n",
       "      <td>0</td>\n",
       "      <td>0</td>\n",
       "      <td>0</td>\n",
       "      <td>0</td>\n",
       "      <td>0</td>\n",
       "      <td>0</td>\n",
       "      <td>...</td>\n",
       "      <td>0</td>\n",
       "      <td>0</td>\n",
       "      <td>0</td>\n",
       "      <td>0</td>\n",
       "      <td>0</td>\n",
       "      <td>0</td>\n",
       "      <td>0</td>\n",
       "      <td>0</td>\n",
       "      <td>1</td>\n",
       "      <td>0</td>\n",
       "    </tr>\n",
       "    <tr>\n",
       "      <th>380</th>\n",
       "      <td>0</td>\n",
       "      <td>0</td>\n",
       "      <td>1</td>\n",
       "      <td>0</td>\n",
       "      <td>0</td>\n",
       "      <td>0</td>\n",
       "      <td>0</td>\n",
       "      <td>0</td>\n",
       "      <td>0</td>\n",
       "      <td>0</td>\n",
       "      <td>...</td>\n",
       "      <td>0</td>\n",
       "      <td>0</td>\n",
       "      <td>1</td>\n",
       "      <td>0</td>\n",
       "      <td>1</td>\n",
       "      <td>0</td>\n",
       "      <td>0</td>\n",
       "      <td>0</td>\n",
       "      <td>0</td>\n",
       "      <td>0</td>\n",
       "    </tr>\n",
       "    <tr>\n",
       "      <th>99</th>\n",
       "      <td>0</td>\n",
       "      <td>0</td>\n",
       "      <td>0</td>\n",
       "      <td>0</td>\n",
       "      <td>0</td>\n",
       "      <td>0</td>\n",
       "      <td>0</td>\n",
       "      <td>0</td>\n",
       "      <td>0</td>\n",
       "      <td>0</td>\n",
       "      <td>...</td>\n",
       "      <td>0</td>\n",
       "      <td>0</td>\n",
       "      <td>0</td>\n",
       "      <td>0</td>\n",
       "      <td>1</td>\n",
       "      <td>0</td>\n",
       "      <td>0</td>\n",
       "      <td>0</td>\n",
       "      <td>0</td>\n",
       "      <td>1</td>\n",
       "    </tr>\n",
       "  </tbody>\n",
       "</table>\n",
       "<p>5 rows × 25 columns</p>\n",
       "</div>"
      ],
      "text/plain": [
       "      category_Animation  category_Children  category_Classics  \\\n",
       "468                    0                  0                  0   \n",
       "332                    0                  0                  1   \n",
       "1435                   0                  0                  0   \n",
       "380                    0                  0                  1   \n",
       "99                     0                  0                  0   \n",
       "\n",
       "      category_Comedy  category_Documentary  category_Drama  category_Family  \\\n",
       "468                 1                     0               0                0   \n",
       "332                 0                     0               0                0   \n",
       "1435                0                     0               0                0   \n",
       "380                 0                     0               0                0   \n",
       "99                  0                     0               0                0   \n",
       "\n",
       "      category_Foreign  category_Games  category_Horror  ...  rating_NC-17  \\\n",
       "468                  0               0                0  ...             0   \n",
       "332                  0               0                0  ...             0   \n",
       "1435                 0               0                0  ...             0   \n",
       "380                  0               0                0  ...             0   \n",
       "99                   0               0                0  ...             0   \n",
       "\n",
       "      rating_PG  rating_PG-13  rating_R  rental_duration_4  rental_duration_5  \\\n",
       "468           0             1         0                  0                  0   \n",
       "332           1             0         0                  0                  1   \n",
       "1435          0             0         0                  0                  0   \n",
       "380           0             1         0                  1                  0   \n",
       "99            0             0         0                  1                  0   \n",
       "\n",
       "      rental_duration_6  rental_duration_7  rental_rate_2.99  rental_rate_4.99  \n",
       "468                   0                  1                 1                 0  \n",
       "332                   0                  0                 0                 0  \n",
       "1435                  0                  0                 1                 0  \n",
       "380                   0                  0                 0                 0  \n",
       "99                    0                  0                 0                 1  \n",
       "\n",
       "[5 rows x 25 columns]"
      ]
     },
     "execution_count": 18,
     "metadata": {},
     "output_type": "execute_result"
    }
   ],
   "source": [
    "# for categoricals\n",
    "X_test_categorical = X_test.select_dtypes(include = object)\n",
    "X_test_cat = pd.get_dummies(X_test_categorical, \n",
    "                            columns=['category', 'rating','rental_duration', 'rental_rate', 'language'],\n",
    "                            drop_first=True)\n",
    "# verify that dummies columns are in the same order and that the same column was dropped\n",
    "display(list(zip(list(X_train_cat.columns),list(X_test_cat.columns))))\n",
    "# not needed if you treat each dataframe with one_hot_encoder and save the encode (and the column names)\n",
    "X_test_cat.head()"
   ]
  },
  {
   "cell_type": "code",
   "execution_count": 19,
   "id": "f99e268e",
   "metadata": {},
   "outputs": [],
   "source": [
    "X_test_transformed = np.concatenate([X_test_norm, X_test_cat], axis=1)"
   ]
  },
  {
   "cell_type": "code",
   "execution_count": 20,
   "id": "0f7e06e7",
   "metadata": {},
   "outputs": [
    {
     "data": {
      "text/plain": [
       "0.9747634069400631"
      ]
     },
     "execution_count": 20,
     "metadata": {},
     "output_type": "execute_result"
    }
   ],
   "source": [
    "# Now we can make predictions on the test set:\n",
    "predictions = classification.predict(X_test_transformed)\n",
    "classification.score(X_test_transformed, y_test)"
   ]
  },
  {
   "cell_type": "code",
   "execution_count": 21,
   "id": "de7a1664",
   "metadata": {},
   "outputs": [
    {
     "data": {
      "text/plain": [
       "False    202\n",
       "True     115\n",
       "Name: may, dtype: int64"
      ]
     },
     "execution_count": 21,
     "metadata": {},
     "output_type": "execute_result"
    }
   ],
   "source": [
    "y_test.value_counts()"
   ]
  },
  {
   "cell_type": "code",
   "execution_count": 22,
   "id": "33566942",
   "metadata": {},
   "outputs": [
    {
     "data": {
      "text/plain": [
       "False    194\n",
       "True     123\n",
       "dtype: int64"
      ]
     },
     "execution_count": 22,
     "metadata": {},
     "output_type": "execute_result"
    }
   ],
   "source": [
    "pd.Series(predictions).value_counts()"
   ]
  },
  {
   "cell_type": "code",
   "execution_count": 23,
   "id": "e930d50b",
   "metadata": {},
   "outputs": [
    {
     "data": {
      "text/plain": [
       "array([[194,   8],\n",
       "       [  0, 115]])"
      ]
     },
     "execution_count": 23,
     "metadata": {},
     "output_type": "execute_result"
    }
   ],
   "source": [
    "from sklearn.metrics import confusion_matrix\n",
    "confusion_matrix(y_test, predictions)"
   ]
  },
  {
   "cell_type": "code",
   "execution_count": 24,
   "id": "a0470467",
   "metadata": {},
   "outputs": [
    {
     "data": {
      "text/plain": [
       "0.5930599369085173"
      ]
     },
     "execution_count": 24,
     "metadata": {},
     "output_type": "execute_result"
    }
   ],
   "source": [
    "# bonus: KNN classifier: look at nearest neighbours and use the majority to determine class\n",
    "from sklearn import neighbors\n",
    "clf = neighbors.KNeighborsClassifier(n_neighbors=3, weights='uniform')\n",
    "clf.fit(X_train_transformed, y_train)\n",
    "predictions_clf = clf.predict(X_test_transformed)\n",
    "clf.score(X_test_transformed, y_test)"
   ]
  },
  {
   "cell_type": "code",
   "execution_count": 25,
   "id": "55600709",
   "metadata": {},
   "outputs": [
    {
     "data": {
      "text/plain": [
       "array([[194,   8],\n",
       "       [  0, 115]])"
      ]
     },
     "execution_count": 25,
     "metadata": {},
     "output_type": "execute_result"
    }
   ],
   "source": [
    "from sklearn.metrics import confusion_matrix\n",
    "confusion_matrix(y_test, predictions)"
   ]
  },
  {
   "cell_type": "code",
   "execution_count": null,
   "id": "6fd86519",
   "metadata": {},
   "outputs": [],
   "source": []
  }
 ],
 "metadata": {
  "kernelspec": {
   "display_name": "Python 3 (ipykernel)",
   "language": "python",
   "name": "python3"
  },
  "language_info": {
   "codemirror_mode": {
    "name": "ipython",
    "version": 3
   },
   "file_extension": ".py",
   "mimetype": "text/x-python",
   "name": "python",
   "nbconvert_exporter": "python",
   "pygments_lexer": "ipython3",
   "version": "3.9.12"
  },
  "toc": {
   "base_numbering": 1,
   "nav_menu": {},
   "number_sections": true,
   "sideBar": true,
   "skip_h1_title": false,
   "title_cell": "Table of Contents",
   "title_sidebar": "Contents",
   "toc_cell": false,
   "toc_position": {},
   "toc_section_display": true,
   "toc_window_display": false
  }
 },
 "nbformat": 4,
 "nbformat_minor": 5
}
